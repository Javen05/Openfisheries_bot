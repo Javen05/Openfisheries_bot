{
 "cells": [
  {
   "cell_type": "markdown",
   "id": "11059a15",
   "metadata": {},
   "source": [
    "### Install libraries"
   ]
  },
  {
   "cell_type": "code",
   "execution_count": 1,
   "id": "e4b92c50",
   "metadata": {},
   "outputs": [],
   "source": [
    "# pip install pyTelegramBotAPI"
   ]
  },
  {
   "cell_type": "code",
   "execution_count": 2,
   "id": "420d95d1",
   "metadata": {},
   "outputs": [],
   "source": [
    "# pip install requests"
   ]
  },
  {
   "cell_type": "code",
   "execution_count": 3,
   "id": "fb51e4a2",
   "metadata": {},
   "outputs": [],
   "source": [
    "# pip install io"
   ]
  },
  {
   "cell_type": "markdown",
   "id": "cead0f9a",
   "metadata": {},
   "source": [
    "### Configurations"
   ]
  },
  {
   "cell_type": "code",
   "execution_count": 4,
   "id": "dae30b97",
   "metadata": {},
   "outputs": [],
   "source": [
    "BOT_TOKEN='123456789:Token' # replace with your bot token"
   ]
  },
  {
   "cell_type": "code",
   "execution_count": 5,
   "id": "3ff2caaf",
   "metadata": {},
   "outputs": [],
   "source": [
    "import telebot\n",
    "import requests\n",
    "from io import BytesIO\n",
    "import matplotlib.pyplot as plt"
   ]
  },
  {
   "cell_type": "code",
   "execution_count": 6,
   "id": "3bf5452f",
   "metadata": {},
   "outputs": [],
   "source": [
    "bot = telebot.TeleBot(BOT_TOKEN)"
   ]
  },
  {
   "cell_type": "code",
   "execution_count": 7,
   "id": "256b84e1",
   "metadata": {},
   "outputs": [],
   "source": [
    "lookup_url = 'https://www.openfisheries.org/api/landings/countries.json'\n",
    "endpoint_url = 'https://www.openfisheries.org/api/landings/countries/{iso3c}.json'"
   ]
  },
  {
   "cell_type": "markdown",
   "id": "e75b01dd",
   "metadata": {},
   "source": [
    "### Bot"
   ]
  },
  {
   "cell_type": "code",
   "execution_count": 8,
   "id": "3507e615",
   "metadata": {},
   "outputs": [],
   "source": [
    "@bot.message_handler(commands=['start'])\n",
    "def start(message):\n",
    "    try:\n",
    "        # Fetch the JSON data from the lookup endpoint\n",
    "        response = requests.get(lookup_url)\n",
    "        response.raise_for_status()\n",
    "        countries_data = response.json()\n",
    "\n",
    "        # Sort the countries by name\n",
    "        sorted_countries = sorted(countries_data, key=lambda x: x['country'])\n",
    "\n",
    "        # Create and send the lookup message as a document\n",
    "        lookup_message = \"Country Name: ISO3 Code\\n\"\n",
    "        for country in sorted_countries:\n",
    "            lookup_message += f\"{country['country']}: {country['iso3c']}\\n\"\n",
    "\n",
    "        # Send the message as a document\n",
    "        document = BytesIO(lookup_message.encode())\n",
    "        document.name = \"Countries.txt\"\n",
    "        bot.send_document(message.chat.id, document, caption='Here is the lookup data as a document.')\n",
    "\n",
    "        # Ask user for ISO3 code\n",
    "        bot.send_message(message.chat.id, \"Enter the ISO3 code of the country you want more details about:\")\n",
    "\n",
    "        # Register the next message from the user\n",
    "        bot.register_next_step_handler(message, process_iso3c)\n",
    "\n",
    "    except requests.exceptions.RequestException as e:\n",
    "        bot.send_message(message.chat.id, f\"Error fetching JSON data: {e}\")"
   ]
  },
  {
   "cell_type": "code",
   "execution_count": 9,
   "id": "6e3dadd8",
   "metadata": {},
   "outputs": [],
   "source": [
    "@bot.message_handler(func=lambda message: True)\n",
    "def process_iso3c(message):\n",
    "    try:\n",
    "        iso3c = message.text.upper()  # Convert to uppercase\n",
    "        endpoint = endpoint_url.format(iso3c=iso3c)\n",
    "\n",
    "        # Fetch data using the provided endpoint\n",
    "        response = requests.get(endpoint)\n",
    "        response.raise_for_status()\n",
    "        country_data = response.json()\n",
    "\n",
    "        # Format the data into a neat and human-readable way\n",
    "        formatted_data = \"{:<12} {:}\\n\".format(\"Year\", \"Catch\")\n",
    "        for entry in country_data:\n",
    "            rounded_catch = round(entry['catch'])\n",
    "            formatted_data += \"{:<12} {:}\\n\".format(entry['year'], rounded_catch)\n",
    "\n",
    "        # Send the formatted data to the user\n",
    "        bot.send_message(message.chat.id, formatted_data)\n",
    "\n",
    "    except requests.exceptions.RequestException as e:\n",
    "        bot.send_message(message.chat.id, f\"Error fetching country data: {e}\")"
   ]
  },
  {
   "cell_type": "markdown",
   "id": "d7a9f2ae",
   "metadata": {},
   "source": [
    "### Host bot"
   ]
  },
  {
   "cell_type": "code",
   "execution_count": null,
   "id": "ef3e70f0",
   "metadata": {},
   "outputs": [],
   "source": [
    "bot.infinity_polling() # bot will be active only when running"
   ]
  }
 ],
 "metadata": {
  "kernelspec": {
   "display_name": "Python 3 (ipykernel)",
   "language": "python",
   "name": "python3"
  },
  "language_info": {
   "codemirror_mode": {
    "name": "ipython",
    "version": 3
   },
   "file_extension": ".py",
   "mimetype": "text/x-python",
   "name": "python",
   "nbconvert_exporter": "python",
   "pygments_lexer": "ipython3",
   "version": "3.9.12"
  }
 },
 "nbformat": 4,
 "nbformat_minor": 5
}
