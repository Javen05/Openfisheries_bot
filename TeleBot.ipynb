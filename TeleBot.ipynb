{
 "cells": [
  {
   "cell_type": "markdown",
   "id": "89098c29",
   "metadata": {},
   "source": [
    "### Install libraries"
   ]
  },
  {
   "cell_type": "code",
   "execution_count": 1,
   "id": "0ac598a0",
   "metadata": {},
   "outputs": [],
   "source": [
    "# pip install pyTelegramBotAPI"
   ]
  },
  {
   "cell_type": "code",
   "execution_count": 2,
   "id": "6d307756",
   "metadata": {},
   "outputs": [],
   "source": [
    "# pip install requests"
   ]
  },
  {
   "cell_type": "code",
   "execution_count": 3,
   "id": "d0f2a97f",
   "metadata": {},
   "outputs": [],
   "source": [
    "# pip install io"
   ]
  },
  {
   "cell_type": "markdown",
   "id": "e472cd78",
   "metadata": {},
   "source": [
    "### Configurations"
   ]
  },
  {
   "cell_type": "code",
   "execution_count": 4,
   "id": "b082c991",
   "metadata": {},
   "outputs": [],
   "source": [
    "BOT_TOKEN='BotFather Token'"
   ]
  },
  {
   "cell_type": "code",
   "execution_count": 5,
   "id": "f009ab9e",
   "metadata": {},
   "outputs": [],
   "source": [
    "import telebot\n",
    "import requests\n",
    "from io import BytesIO\n",
    "import matplotlib.pyplot as plt"
   ]
  },
  {
   "cell_type": "code",
   "execution_count": 6,
   "id": "a0507171",
   "metadata": {},
   "outputs": [],
   "source": [
    "bot = telebot.TeleBot(BOT_TOKEN)"
   ]
  },
  {
   "cell_type": "code",
   "execution_count": 7,
   "id": "4db43799",
   "metadata": {},
   "outputs": [],
   "source": [
    "lookup_url = 'https://www.openfisheries.org/api/landings/countries.json'\n",
    "endpoint_url = 'https://www.openfisheries.org/api/landings/countries/{iso3c}.json'"
   ]
  },
  {
   "cell_type": "markdown",
   "id": "f9129449",
   "metadata": {},
   "source": [
    "### Customize your bot"
   ]
  },
  {
   "cell_type": "code",
   "execution_count": 8,
   "id": "265d2a65",
   "metadata": {},
   "outputs": [],
   "source": [
    "@bot.message_handler(commands=['start'])\n",
    "def start(message):\n",
    "    try:\n",
    "        # Fetch the JSON data from the lookup endpoint\n",
    "        response = requests.get(lookup_url)\n",
    "        response.raise_for_status()\n",
    "        countries_data = response.json()\n",
    "\n",
    "        # Sort the countries by name\n",
    "        sorted_countries = sorted(countries_data, key=lambda x: x['country'])\n",
    "\n",
    "        # Create and send the lookup message as a document\n",
    "        lookup_message = \"Country Name: ISO3 Code\\n\"\n",
    "        for country in sorted_countries:\n",
    "            lookup_message += f\"{country['country']}: {country['iso3c']}\\n\"\n",
    "\n",
    "        # Send the message as a document\n",
    "        document = BytesIO(lookup_message.encode())\n",
    "        document.name = \"Countries.txt\"\n",
    "        bot.send_document(message.chat.id, document, caption='Here is the lookup data as a document.')\n",
    "\n",
    "        # Ask user for ISO3 code\n",
    "        bot.send_message(message.chat.id, \"Enter the ISO3 code of the country you want more details about:\")\n",
    "\n",
    "        # Register the next message from the user\n",
    "        bot.register_next_step_handler(message, process_iso3c)\n",
    "\n",
    "    except requests.exceptions.RequestException as e:\n",
    "        bot.send_message(message.chat.id, f\"Error fetching JSON data: {e}\")"
   ]
  },
  {
   "cell_type": "code",
   "execution_count": 9,
   "id": "babb7275",
   "metadata": {},
   "outputs": [],
   "source": [
    "@bot.message_handler(func=lambda message: True)\n",
    "def process_iso3c(message):\n",
    "    try:\n",
    "        iso3c = message.text.upper()  # Convert to uppercase\n",
    "        endpoint = endpoint_url.format(iso3c=iso3c)\n",
    "\n",
    "        # Fetch data using the provided endpoint\n",
    "        response = requests.get(endpoint)\n",
    "        response.raise_for_status()\n",
    "        country_data = response.json()\n",
    "\n",
    "        # Format the data into a neat and human-readable way\n",
    "        formatted_data = \"{:<12} {:<8}\\n\".format(\"Year\", \"Catch\")\n",
    "        for entry in country_data:\n",
    "            rounded_catch = round(entry['catch'])\n",
    "            formatted_data += \"{:<12} {:<8}\\n\".format(entry['year'], rounded_catch)\n",
    "\n",
    "        # Send the formatted data to the user\n",
    "        bot.send_message(message.chat.id, formatted_data)\n",
    "\n",
    "    except requests.exceptions.RequestException as e:\n",
    "        bot.send_message(message.chat.id, f\"Error fetching country data: {e}\")"
   ]
  },
  {
   "cell_type": "markdown",
   "id": "47b55595",
   "metadata": {},
   "source": [
    "### Host bot"
   ]
  },
  {
   "cell_type": "code",
   "execution_count": null,
   "id": "1caf1fb3",
   "metadata": {},
   "outputs": [],
   "source": [
    "bot.infinity_polling() # bot will be active only when running"
   ]
  },
  {
   "cell_type": "code",
   "execution_count": null,
   "id": "9acdf562",
   "metadata": {},
   "outputs": [],
   "source": []
  }
 ],
 "metadata": {
  "kernelspec": {
   "display_name": "Python 3 (ipykernel)",
   "language": "python",
   "name": "python3"
  },
  "language_info": {
   "codemirror_mode": {
    "name": "ipython",
    "version": 3
   },
   "file_extension": ".py",
   "mimetype": "text/x-python",
   "name": "python",
   "nbconvert_exporter": "python",
   "pygments_lexer": "ipython3",
   "version": "3.9.12"
  }
 },
 "nbformat": 4,
 "nbformat_minor": 5
}
